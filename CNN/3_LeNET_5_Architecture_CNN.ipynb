{
  "nbformat": 4,
  "nbformat_minor": 0,
  "metadata": {
    "colab": {
      "provenance": []
    },
    "kernelspec": {
      "name": "python3",
      "display_name": "Python 3"
    },
    "language_info": {
      "name": "python"
    }
  },
  "cells": [
    {
      "cell_type": "code",
      "execution_count": 8,
      "metadata": {
        "id": "0lsdGIjSD6nl"
      },
      "outputs": [],
      "source": [
        "import tensorflow as tf\n",
        "from tensorflow.keras.models import Sequential\n",
        "from tensorflow.keras.layers import Conv2D, AveragePooling2D, Flatten, Dense\n",
        "from tensorflow.keras.datasets import mnist\n",
        "from tensorflow.keras.utils import to_categorical"
      ]
    },
    {
      "cell_type": "code",
      "source": [
        "(X_train, y_train), (X_test, y_test) = mnist.load_data()"
      ],
      "metadata": {
        "colab": {
          "base_uri": "https://localhost:8080/"
        },
        "id": "zNV7d6snENxd",
        "outputId": "9e709b24-4feb-4f3d-f82b-e611b1f70338"
      },
      "execution_count": 3,
      "outputs": [
        {
          "output_type": "stream",
          "name": "stdout",
          "text": [
            "Downloading data from https://storage.googleapis.com/tensorflow/tf-keras-datasets/mnist.npz\n",
            "11490434/11490434 [==============================] - 0s 0us/step\n"
          ]
        }
      ]
    },
    {
      "cell_type": "markdown",
      "source": [
        "# LeNET Architecture"
      ],
      "metadata": {
        "id": "PO7GxItREk0k"
      }
    },
    {
      "cell_type": "code",
      "source": [
        "model = Sequential()\n",
        "\n",
        "model.add(Conv2D(6,kernel_size=(5,5),padding='valid', activation='tanh', input_shape=(32,32,1))) # Filter\n",
        "model.add(AveragePooling2D(pool_size=(2, 2), strides=2, padding='valid')) # Avg pooling layer\n",
        "model.add(Conv2D(16,kernel_size=(5,5),padding='valid', activation='tanh')) # Filter\n",
        "model.add(AveragePooling2D(pool_size=(2, 2), strides=2, padding='valid')) # Avg pooling layer\n",
        "\n",
        "model.add(Flatten()) # convert to 1D\n",
        "\n",
        "model.add(Dense(120,activation='tanh')) # Fully connected layer.. Neuron 120\n",
        "model.add(Dense(84,activation='tanh')) #  Fully connecter layer .. Neuron 84\n",
        "\n",
        "model.add(Dense(10,activation='softmax')) # Output layer.. Neuron 10"
      ],
      "metadata": {
        "id": "KJDti6g9EOYG"
      },
      "execution_count": 5,
      "outputs": []
    },
    {
      "cell_type": "code",
      "source": [
        "# Define the LeNet-5 model\n",
        "model = Sequential()\n",
        "\n",
        "model.add(Conv2D(6, kernel_size=(5, 5), padding='valid', activation='tanh', input_shape=(28, 28, 1))) # Change input shape to (28,28,1)\n",
        "model.add(AveragePooling2D(pool_size=(2, 2), strides=2, padding='valid'))\n",
        "model.add(Conv2D(16, kernel_size=(5, 5), padding='valid', activation='tanh'))\n",
        "model.add(AveragePooling2D(pool_size=(2, 2), strides=2, padding='valid'))\n",
        "\n",
        "model.add(Flatten())\n",
        "\n",
        "model.add(Dense(120, activation='tanh'))\n",
        "model.add(Dense(84, activation='tanh'))\n",
        "\n",
        "model.add(Dense(10, activation='softmax'))\n",
        "\n",
        "# Compile the model\n",
        "model.compile(optimizer='adam',\n",
        "              loss='categorical_crossentropy',\n",
        "              metrics=['accuracy'])\n",
        "\n",
        "# Load the MNIST dataset\n",
        "(x_train, y_train), (x_test, y_test) = mnist.load_data()\n",
        "\n",
        "# Preprocess the data\n",
        "x_train = x_train.reshape(-1, 28, 28, 1) # Reshape to match the actual image size\n",
        "x_test = x_test.reshape(-1, 28, 28, 1)   # Reshape to match the actual image size\n",
        "\n",
        "x_train = x_train.astype('float32')\n",
        "x_test = x_test.astype('float32')\n",
        "\n",
        "# Normalize the data to the range [0, 1]\n",
        "x_train /= 255\n",
        "x_test /= 255\n",
        "\n",
        "# One-hot encode the labels\n",
        "y_train = to_categorical(y_train, 10)\n",
        "y_test = to_categorical(y_test, 10)\n",
        "\n",
        "# Train the model\n",
        "model.fit(x_train, y_train, batch_size=64, epochs=10, validation_data=(x_test, y_test))\n",
        "\n",
        "# Evaluate the model\n",
        "test_loss, test_accuracy = model.evaluate(x_test, y_test)\n",
        "\n",
        "print(f'Test loss: {test_loss}')\n",
        "print(f'Test accuracy: {test_accuracy}')"
      ],
      "metadata": {
        "colab": {
          "base_uri": "https://localhost:8080/"
        },
        "id": "w7LkRDBtETSN",
        "outputId": "5518d720-6d70-4d4e-8e23-1e483c58cdfd"
      },
      "execution_count": 10,
      "outputs": [
        {
          "output_type": "stream",
          "name": "stdout",
          "text": [
            "Epoch 1/10\n",
            "938/938 [==============================] - 28s 28ms/step - loss: 0.2916 - accuracy: 0.9153 - val_loss: 0.1244 - val_accuracy: 0.9625\n",
            "Epoch 2/10\n",
            "938/938 [==============================] - 26s 28ms/step - loss: 0.1032 - accuracy: 0.9684 - val_loss: 0.0774 - val_accuracy: 0.9757\n",
            "Epoch 3/10\n",
            "938/938 [==============================] - 25s 27ms/step - loss: 0.0699 - accuracy: 0.9785 - val_loss: 0.0612 - val_accuracy: 0.9799\n",
            "Epoch 4/10\n",
            "938/938 [==============================] - 24s 25ms/step - loss: 0.0528 - accuracy: 0.9835 - val_loss: 0.0549 - val_accuracy: 0.9818\n",
            "Epoch 5/10\n",
            "938/938 [==============================] - 25s 27ms/step - loss: 0.0429 - accuracy: 0.9865 - val_loss: 0.0527 - val_accuracy: 0.9831\n",
            "Epoch 6/10\n",
            "938/938 [==============================] - 26s 28ms/step - loss: 0.0353 - accuracy: 0.9887 - val_loss: 0.0631 - val_accuracy: 0.9795\n",
            "Epoch 7/10\n",
            "938/938 [==============================] - 26s 28ms/step - loss: 0.0280 - accuracy: 0.9913 - val_loss: 0.0471 - val_accuracy: 0.9854\n",
            "Epoch 8/10\n",
            "938/938 [==============================] - 25s 26ms/step - loss: 0.0246 - accuracy: 0.9922 - val_loss: 0.0473 - val_accuracy: 0.9852\n",
            "Epoch 9/10\n",
            "938/938 [==============================] - 25s 26ms/step - loss: 0.0215 - accuracy: 0.9932 - val_loss: 0.0449 - val_accuracy: 0.9856\n",
            "Epoch 10/10\n",
            "938/938 [==============================] - 25s 27ms/step - loss: 0.0162 - accuracy: 0.9952 - val_loss: 0.0389 - val_accuracy: 0.9884\n",
            "313/313 [==============================] - 2s 6ms/step - loss: 0.0389 - accuracy: 0.9884\n",
            "Test loss: 0.03888840600848198\n",
            "Test accuracy: 0.9883999824523926\n"
          ]
        }
      ]
    },
    {
      "cell_type": "code",
      "source": [
        "y_pred=model.predict(x_test)\n"
      ],
      "metadata": {
        "colab": {
          "base_uri": "https://localhost:8080/"
        },
        "id": "RdagcIotG7Rt",
        "outputId": "0bc247a1-3979-48d9-e2a0-13d0d650b559"
      },
      "execution_count": 13,
      "outputs": [
        {
          "output_type": "stream",
          "name": "stdout",
          "text": [
            "313/313 [==============================] - 2s 6ms/step\n"
          ]
        }
      ]
    },
    {
      "cell_type": "code",
      "source": [
        "from sklearn.metrics import accuracy_score\n",
        "import numpy as np"
      ],
      "metadata": {
        "id": "LhVnskhfIyR4"
      },
      "execution_count": 18,
      "outputs": []
    },
    {
      "cell_type": "code",
      "source": [
        "# Predict class probabilities\n",
        "y_pred_probs = model.predict(x_test)\n",
        "\n",
        "# Convert probabilities to class labels\n",
        "y_pred = np.argmax(y_pred_probs, axis=1)\n",
        "\n",
        "# Convert y_test to class labels (if it's one-hot encoded)\n",
        "y_test_labels = np.argmax(y_test, axis=1)  # Add this line\n",
        "\n",
        "# Now you can calculate accuracy\n",
        "print(accuracy_score(y_test_labels, y_pred)) # Change y_test to y_test_labels"
      ],
      "metadata": {
        "colab": {
          "base_uri": "https://localhost:8080/"
        },
        "id": "xO3ljXpPIYh2",
        "outputId": "0777232b-1ff1-4af7-97c9-fba18210b325"
      },
      "execution_count": 20,
      "outputs": [
        {
          "output_type": "stream",
          "name": "stdout",
          "text": [
            "313/313 [==============================] - 3s 8ms/step\n",
            "0.9884\n"
          ]
        }
      ]
    },
    {
      "cell_type": "code",
      "source": [],
      "metadata": {
        "id": "mRJXw_G0Iqe1"
      },
      "execution_count": null,
      "outputs": []
    }
  ]
}