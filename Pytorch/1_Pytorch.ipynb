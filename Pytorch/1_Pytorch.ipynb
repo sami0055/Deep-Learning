{
  "nbformat": 4,
  "nbformat_minor": 0,
  "metadata": {
    "colab": {
      "provenance": []
    },
    "kernelspec": {
      "name": "python3",
      "display_name": "Python 3"
    },
    "language_info": {
      "name": "python"
    }
  },
  "cells": [
    {
      "cell_type": "code",
      "execution_count": 2,
      "metadata": {
        "id": "iikfqrlUdo1Q"
      },
      "outputs": [],
      "source": [
        "import torch"
      ]
    },
    {
      "cell_type": "code",
      "source": [
        "x=torch.empty(3)\n",
        "print(x)"
      ],
      "metadata": {
        "colab": {
          "base_uri": "https://localhost:8080/"
        },
        "id": "NgDGURkPeIuX",
        "outputId": "3afd5cb8-b046-4364-cb30-d9725b99430c"
      },
      "execution_count": 3,
      "outputs": [
        {
          "output_type": "stream",
          "name": "stdout",
          "text": [
            "tensor([6.9292e+29, 3.1753e-41, 0.0000e+00])\n"
          ]
        }
      ]
    },
    {
      "cell_type": "code",
      "source": [
        "x=torch.empty(3,3,3)\n",
        "print(x)"
      ],
      "metadata": {
        "colab": {
          "base_uri": "https://localhost:8080/"
        },
        "id": "ohWMxYEMg7uv",
        "outputId": "edf8a1f7-2c40-499c-b11c-d7ec87ae12e1"
      },
      "execution_count": 4,
      "outputs": [
        {
          "output_type": "stream",
          "name": "stdout",
          "text": [
            "tensor([[[ 0.0000e+00,  0.0000e+00,  0.0000e+00],\n",
            "         [ 0.0000e+00,  0.0000e+00,  0.0000e+00],\n",
            "         [ 0.0000e+00,  0.0000e+00,  0.0000e+00]],\n",
            "\n",
            "        [[ 0.0000e+00,  0.0000e+00,  0.0000e+00],\n",
            "         [ 0.0000e+00,  0.0000e+00, -2.3754e-02],\n",
            "         [ 4.4755e-41, -2.3754e-02,  4.4755e-41]],\n",
            "\n",
            "        [[ 0.0000e+00,  0.0000e+00,  0.0000e+00],\n",
            "         [ 0.0000e+00,  0.0000e+00,  0.0000e+00],\n",
            "         [ 0.0000e+00,  0.0000e+00,  0.0000e+00]]])\n"
          ]
        }
      ]
    },
    {
      "cell_type": "code",
      "source": [
        "t3=torch.tensor([[5,6],[7,8],[9,10]])\n",
        "print(t3)"
      ],
      "metadata": {
        "colab": {
          "base_uri": "https://localhost:8080/"
        },
        "id": "JpHhbRumdPHc",
        "outputId": "51d02143-e243-4df5-beb8-ecf56edcd8f7"
      },
      "execution_count": 5,
      "outputs": [
        {
          "output_type": "stream",
          "name": "stdout",
          "text": [
            "tensor([[ 5,  6],\n",
            "        [ 7,  8],\n",
            "        [ 9, 10]])\n"
          ]
        }
      ]
    },
    {
      "cell_type": "code",
      "source": [
        "# 3-d\n",
        "t3=torch.tensor([[[1,2,3],[3,4,5],[5,6,7],[3,4,5]]])\n",
        "print(t3)"
      ],
      "metadata": {
        "colab": {
          "base_uri": "https://localhost:8080/"
        },
        "id": "bE-3K8F7dO60",
        "outputId": "7b470054-db0c-438b-f577-844ebd9e68dc"
      },
      "execution_count": 25,
      "outputs": [
        {
          "output_type": "stream",
          "name": "stdout",
          "text": [
            "tensor([[[1, 2, 3],\n",
            "         [3, 4, 5],\n",
            "         [5, 6, 7],\n",
            "         [3, 4, 5]]])\n"
          ]
        }
      ]
    },
    {
      "cell_type": "code",
      "source": [
        "t3=torch.tensor([[[1,2,3],[2,3,4]],[[1,2,3],[4,5,6]]])\n",
        "print(t3)\n",
        "print(t3.shape)"
      ],
      "metadata": {
        "colab": {
          "base_uri": "https://localhost:8080/"
        },
        "id": "wDeXaO6Oefmg",
        "outputId": "d916cdff-4b67-4dd1-e42f-00bcc0adc629"
      },
      "execution_count": 27,
      "outputs": [
        {
          "output_type": "stream",
          "name": "stdout",
          "text": [
            "tensor([[[1, 2, 3],\n",
            "         [2, 3, 4]],\n",
            "\n",
            "        [[1, 2, 3],\n",
            "         [4, 5, 6]]])\n",
            "torch.Size([2, 2, 3])\n"
          ]
        }
      ]
    },
    {
      "cell_type": "code",
      "source": [
        "print(t3.shape)"
      ],
      "metadata": {
        "colab": {
          "base_uri": "https://localhost:8080/"
        },
        "id": "PZM3FjYedt2w",
        "outputId": "692c0988-4852-4ad4-c052-0fa280e4ed7d"
      },
      "execution_count": 26,
      "outputs": [
        {
          "output_type": "stream",
          "name": "stdout",
          "text": [
            "torch.Size([1, 4, 3])\n"
          ]
        }
      ]
    },
    {
      "cell_type": "code",
      "source": [
        "#Tensor with random values\n",
        "x=torch.rand(2,2)\n",
        "print(x)"
      ],
      "metadata": {
        "colab": {
          "base_uri": "https://localhost:8080/"
        },
        "id": "QD8Wi6uAg7s1",
        "outputId": "f6a8cc3a-9e2b-43e7-edff-2d212f84ec49"
      },
      "execution_count": 6,
      "outputs": [
        {
          "output_type": "stream",
          "name": "stdout",
          "text": [
            "tensor([[0.1914, 0.2182],\n",
            "        [0.3724, 0.5528]])\n"
          ]
        }
      ]
    },
    {
      "cell_type": "code",
      "source": [
        "x=torch.zeros(2,2)\n",
        "print(x)"
      ],
      "metadata": {
        "colab": {
          "base_uri": "https://localhost:8080/"
        },
        "id": "jUKDACeleU1Y",
        "outputId": "22b1d494-f142-4742-8b8a-4e2f5a18e1bd"
      },
      "execution_count": 7,
      "outputs": [
        {
          "output_type": "stream",
          "name": "stdout",
          "text": [
            "tensor([[0., 0.],\n",
            "        [0., 0.]])\n"
          ]
        }
      ]
    },
    {
      "cell_type": "code",
      "source": [
        "x=torch.ones(2,2,dtype=torch.int)  # torch.double, torch.float16\n",
        "print(x)\n",
        "print(x.dtype)\n",
        "print(x.size())"
      ],
      "metadata": {
        "colab": {
          "base_uri": "https://localhost:8080/"
        },
        "id": "NnWumS_Dg4Z5",
        "outputId": "f99af09d-abed-4e10-c5e1-b0dc6541d93a"
      },
      "execution_count": 8,
      "outputs": [
        {
          "output_type": "stream",
          "name": "stdout",
          "text": [
            "tensor([[1, 1],\n",
            "        [1, 1]], dtype=torch.int32)\n",
            "torch.int32\n",
            "torch.Size([2, 2])\n"
          ]
        }
      ]
    },
    {
      "cell_type": "code",
      "source": [
        "# Tensor with list\n",
        "x=torch.tensor([2.3,1.2,4.5,6.6])\n",
        "print(x)"
      ],
      "metadata": {
        "colab": {
          "base_uri": "https://localhost:8080/"
        },
        "id": "YR1QvcmjhTNf",
        "outputId": "e9405127-56d9-4a4b-eb4e-f3ee56026744"
      },
      "execution_count": 9,
      "outputs": [
        {
          "output_type": "stream",
          "name": "stdout",
          "text": [
            "tensor([2.3000, 1.2000, 4.5000, 6.6000])\n"
          ]
        }
      ]
    },
    {
      "cell_type": "code",
      "source": [
        "# Basic operations\n",
        "x=torch.rand(2,2)\n",
        "y=torch.rand(2,2)\n",
        "print(x)\n",
        "print(y)\n",
        "z=x+y\n",
        "print(z)\n",
        "z=torch.add(x,y)\n",
        "print(z)\n",
        "y.add_(x)\n",
        "print(y)"
      ],
      "metadata": {
        "colab": {
          "base_uri": "https://localhost:8080/"
        },
        "id": "qOZE84xah8ep",
        "outputId": "7094ebda-0d36-4b82-98d8-293cde0ef4a4"
      },
      "execution_count": 10,
      "outputs": [
        {
          "output_type": "stream",
          "name": "stdout",
          "text": [
            "tensor([[0.6606, 0.1373],\n",
            "        [0.3689, 0.2338]])\n",
            "tensor([[0.0604, 0.6427],\n",
            "        [0.2936, 0.5061]])\n",
            "tensor([[0.7210, 0.7800],\n",
            "        [0.6625, 0.7399]])\n",
            "tensor([[0.7210, 0.7800],\n",
            "        [0.6625, 0.7399]])\n",
            "tensor([[0.7210, 0.7800],\n",
            "        [0.6625, 0.7399]])\n"
          ]
        }
      ]
    },
    {
      "cell_type": "code",
      "source": [
        "# Subtracting\n",
        "z=x-y\n",
        "print(z)\n",
        "z=torch.sub(x,y)\n",
        "print(z)\n",
        "y.sub_(x)\n",
        "print(y)\n"
      ],
      "metadata": {
        "colab": {
          "base_uri": "https://localhost:8080/"
        },
        "id": "0jfDmYmGi7UX",
        "outputId": "4ce8f615-14a0-468b-b759-f44dbfe8f058"
      },
      "execution_count": 11,
      "outputs": [
        {
          "output_type": "stream",
          "name": "stdout",
          "text": [
            "tensor([[-0.0604, -0.6427],\n",
            "        [-0.2936, -0.5061]])\n",
            "tensor([[-0.0604, -0.6427],\n",
            "        [-0.2936, -0.5061]])\n",
            "tensor([[0.0604, 0.6427],\n",
            "        [0.2936, 0.5061]])\n"
          ]
        }
      ]
    },
    {
      "cell_type": "code",
      "source": [
        "# Multiply\n",
        "z=x*y\n",
        "print(z)\n",
        "z=torch.mul(x,y)\n",
        "print(z)\n",
        "y.mul_(x)\n",
        "print(y)"
      ],
      "metadata": {
        "colab": {
          "base_uri": "https://localhost:8080/"
        },
        "id": "c47aorbdjjYI",
        "outputId": "13312f52-09f1-4c81-e714-b279eaa29143"
      },
      "execution_count": 12,
      "outputs": [
        {
          "output_type": "stream",
          "name": "stdout",
          "text": [
            "tensor([[0.0399, 0.0882],\n",
            "        [0.1083, 0.1183]])\n",
            "tensor([[0.0399, 0.0882],\n",
            "        [0.1083, 0.1183]])\n",
            "tensor([[0.0399, 0.0882],\n",
            "        [0.1083, 0.1183]])\n"
          ]
        }
      ]
    },
    {
      "cell_type": "code",
      "source": [
        "#Division\n",
        "z=x/y\n",
        "print(z)\n",
        "z=torch.div(x,y)\n",
        "print(z)\n",
        "y.div_(x)\n",
        "print(y)"
      ],
      "metadata": {
        "colab": {
          "base_uri": "https://localhost:8080/"
        },
        "id": "p2Vt9NZOkdQE",
        "outputId": "970ccc4a-b01a-4949-a50d-a433fe94ec6d"
      },
      "execution_count": 13,
      "outputs": [
        {
          "output_type": "stream",
          "name": "stdout",
          "text": [
            "tensor([[16.5609,  1.5559],\n",
            "        [ 3.4061,  1.9758]])\n",
            "tensor([[16.5609,  1.5559],\n",
            "        [ 3.4061,  1.9758]])\n",
            "tensor([[0.0604, 0.6427],\n",
            "        [0.2936, 0.5061]])\n"
          ]
        }
      ]
    },
    {
      "cell_type": "code",
      "source": [
        "#Slicing\n",
        "x=torch.rand(5,3)\n",
        "print(x)\n",
        "# all rows column 0\n",
        "print(x[:,0])\n",
        "# rows no 1 and all column\n",
        "print(x[1,:])\n",
        "print(x[0:2,0:2])\n",
        "print(x[0,0])\n",
        "print(x[1,1].item())"
      ],
      "metadata": {
        "colab": {
          "base_uri": "https://localhost:8080/"
        },
        "id": "IrnRG9_Mk9sD",
        "outputId": "bdaa4cd9-da61-4824-b4cb-1308949f3bb9"
      },
      "execution_count": 14,
      "outputs": [
        {
          "output_type": "stream",
          "name": "stdout",
          "text": [
            "tensor([[0.3430, 0.9419, 0.2311],\n",
            "        [0.7703, 0.9031, 0.5896],\n",
            "        [0.2503, 0.3788, 0.5870],\n",
            "        [0.5821, 0.9543, 0.1631],\n",
            "        [0.3853, 0.3112, 0.8249]])\n",
            "tensor([0.3430, 0.7703, 0.2503, 0.5821, 0.3853])\n",
            "tensor([0.7703, 0.9031, 0.5896])\n",
            "tensor([[0.3430, 0.9419],\n",
            "        [0.7703, 0.9031]])\n",
            "tensor(0.3430)\n",
            "0.9031434059143066\n"
          ]
        }
      ]
    },
    {
      "cell_type": "code",
      "source": [
        "# Reshaping Tensor\n",
        "x=torch.rand(4,4)\n",
        "print(x)\n",
        "y=x.view(2,8)\n",
        "print(y)\n",
        "print(y.size())"
      ],
      "metadata": {
        "colab": {
          "base_uri": "https://localhost:8080/"
        },
        "id": "7iE9jTXKlVU4",
        "outputId": "57340750-b33c-4894-ff4b-8cc18d264b25"
      },
      "execution_count": 15,
      "outputs": [
        {
          "output_type": "stream",
          "name": "stdout",
          "text": [
            "tensor([[0.1374, 0.2674, 0.7974, 0.7574],\n",
            "        [0.3736, 0.1684, 0.3922, 0.3878],\n",
            "        [0.1342, 0.0993, 0.8807, 0.6373],\n",
            "        [0.7875, 0.0814, 0.9549, 0.4662]])\n",
            "tensor([[0.1374, 0.2674, 0.7974, 0.7574, 0.3736, 0.1684, 0.3922, 0.3878],\n",
            "        [0.1342, 0.0993, 0.8807, 0.6373, 0.7875, 0.0814, 0.9549, 0.4662]])\n",
            "torch.Size([2, 8])\n"
          ]
        }
      ]
    },
    {
      "cell_type": "code",
      "source": [
        "# Numpy to torch tensor and vise versa\n",
        "import numpy as np"
      ],
      "metadata": {
        "id": "ojw4fcf1oGBh"
      },
      "execution_count": 16,
      "outputs": []
    },
    {
      "cell_type": "code",
      "source": [
        "a=torch.ones(5)\n",
        "print(a)"
      ],
      "metadata": {
        "colab": {
          "base_uri": "https://localhost:8080/"
        },
        "id": "-O9odZzsovJt",
        "outputId": "0d9042ba-aa5d-49f6-94ce-11bccc7270fa"
      },
      "execution_count": 17,
      "outputs": [
        {
          "output_type": "stream",
          "name": "stdout",
          "text": [
            "tensor([1., 1., 1., 1., 1.])\n"
          ]
        }
      ]
    },
    {
      "cell_type": "code",
      "source": [
        "b=a.numpy()\n",
        "print(b)\n",
        "print(type(b))"
      ],
      "metadata": {
        "colab": {
          "base_uri": "https://localhost:8080/"
        },
        "id": "KpnSE0g_oyJf",
        "outputId": "8f00b046-a852-4a9a-a8d3-9d0f2658e39e"
      },
      "execution_count": 18,
      "outputs": [
        {
          "output_type": "stream",
          "name": "stdout",
          "text": [
            "[1. 1. 1. 1. 1.]\n",
            "<class 'numpy.ndarray'>\n"
          ]
        }
      ]
    },
    {
      "cell_type": "code",
      "source": [
        "# in cpu both a and b share the same memory\n",
        "a.add_(1)\n",
        "print(a)\n",
        "print(b)"
      ],
      "metadata": {
        "colab": {
          "base_uri": "https://localhost:8080/"
        },
        "id": "rhWAwUHvo6mb",
        "outputId": "f6d70022-1652-4495-e576-ea3881f0d924"
      },
      "execution_count": 19,
      "outputs": [
        {
          "output_type": "stream",
          "name": "stdout",
          "text": [
            "tensor([2., 2., 2., 2., 2.])\n",
            "[2. 2. 2. 2. 2.]\n"
          ]
        }
      ]
    },
    {
      "cell_type": "code",
      "source": [
        "# Numpy to Tensor\n",
        "a=np.ones(5)\n",
        "print(a)"
      ],
      "metadata": {
        "colab": {
          "base_uri": "https://localhost:8080/"
        },
        "id": "Z3nIAqjypx1k",
        "outputId": "1c18ce76-ed91-4a51-c137-f495b2fd049d"
      },
      "execution_count": 20,
      "outputs": [
        {
          "output_type": "stream",
          "name": "stdout",
          "text": [
            "[1. 1. 1. 1. 1.]\n"
          ]
        }
      ]
    },
    {
      "cell_type": "code",
      "source": [
        "b=torch.from_numpy(a)\n",
        "print(b)\n",
        "print(type(b))\n",
        "a+=1\n",
        "print(a)\n",
        "print(b)"
      ],
      "metadata": {
        "colab": {
          "base_uri": "https://localhost:8080/"
        },
        "id": "KmttqkxBr4Od",
        "outputId": "1868f5b1-3219-49ee-a930-68254c3de8de"
      },
      "execution_count": 21,
      "outputs": [
        {
          "output_type": "stream",
          "name": "stdout",
          "text": [
            "tensor([1., 1., 1., 1., 1.], dtype=torch.float64)\n",
            "<class 'torch.Tensor'>\n",
            "[2. 2. 2. 2. 2.]\n",
            "tensor([2., 2., 2., 2., 2.], dtype=torch.float64)\n"
          ]
        }
      ]
    },
    {
      "cell_type": "code",
      "source": [
        "if torch.cuda.is_available():\n",
        "  device=torch.device(\"cuda\")\n",
        "  x=torch.ones(5,device=device)\n",
        "  y=torch.ones(5)\n",
        "  y=y.to(device)\n",
        "  z=x+y\n",
        "  z=z.to(\"cpu\")\n",
        "  print(z)\n",
        "else: print(\"no cuda\")"
      ],
      "metadata": {
        "colab": {
          "base_uri": "https://localhost:8080/"
        },
        "id": "etRZaribsMia",
        "outputId": "74ddf3f5-1dd8-4156-900d-7fbefd22355a"
      },
      "execution_count": 22,
      "outputs": [
        {
          "output_type": "stream",
          "name": "stdout",
          "text": [
            "no cuda\n"
          ]
        }
      ]
    },
    {
      "cell_type": "code",
      "source": [],
      "metadata": {
        "id": "T0eWbvMotUHc"
      },
      "execution_count": 22,
      "outputs": []
    }
  ]
}