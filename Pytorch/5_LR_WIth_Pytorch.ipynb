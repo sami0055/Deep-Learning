{
  "nbformat": 4,
  "nbformat_minor": 0,
  "metadata": {
    "colab": {
      "provenance": []
    },
    "kernelspec": {
      "name": "python3",
      "display_name": "Python 3"
    },
    "language_info": {
      "name": "python"
    }
  },
  "cells": [
    {
      "cell_type": "markdown",
      "source": [
        "## Linear regression using PyTorch built-ins"
      ],
      "metadata": {
        "id": "58a36MpWtusS"
      }
    },
    {
      "cell_type": "markdown",
      "source": [
        "We've implemented linear regression & gradient descent model using some basic tensor operations. However, since this is a common pattern in deep learning, PyTorch provides several built-in functions and classes to make it easy to create and train models with just a few lines of code.\n",
        "\n",
        "Let's begin by importing the torch.nn package from PyTorch, which contains utility classes for building neural networks.\n",
        "\n"
      ],
      "metadata": {
        "id": "EH9Nwbeutv7g"
      }
    },
    {
      "cell_type": "code",
      "execution_count": 5,
      "metadata": {
        "id": "oYMPabF2r4B1"
      },
      "outputs": [],
      "source": [
        "import torch\n",
        "import torch.nn as nn\n",
        "import numpy as np"
      ]
    },
    {
      "cell_type": "code",
      "source": [
        "# Input (temp, rainfall, humidity)\n",
        "inputs = np.array([[73, 67, 43],\n",
        "                   [91, 88, 64],\n",
        "                   [87, 134, 58],\n",
        "                   [102, 43, 37],\n",
        "                   [69, 96, 70],\n",
        "                   [74, 66, 43],\n",
        "                   [91, 87, 65],\n",
        "                   [88, 134, 59],\n",
        "                   [101, 44, 37],\n",
        "                   [68, 96, 71],\n",
        "                   [73, 66, 44],\n",
        "                   [92, 87, 64],\n",
        "                   [87, 135, 57],\n",
        "                   [103, 43, 36],\n",
        "                   [68, 97, 70]],\n",
        "                  dtype='float32')\n",
        "\n",
        "# Targets (apples, oranges)\n",
        "targets = np.array([[56, 70],\n",
        "                    [81, 101],\n",
        "                    [119, 133],\n",
        "                    [22, 37],\n",
        "                    [103, 119],\n",
        "                    [57, 69],\n",
        "                    [80, 102],\n",
        "                    [118, 132],\n",
        "                    [21, 38],\n",
        "                    [104, 118],\n",
        "                    [57, 69],\n",
        "                    [82, 100],\n",
        "                    [118, 134],\n",
        "                    [20, 38],\n",
        "                    [102, 120]],\n",
        "                   dtype='float32')"
      ],
      "metadata": {
        "id": "nlvUuq2LsHSP"
      },
      "execution_count": 8,
      "outputs": []
    },
    {
      "cell_type": "code",
      "source": [
        "inputs=torch.from_numpy(inputs)\n",
        "targets=torch.from_numpy(targets)"
      ],
      "metadata": {
        "id": "BxK36gNht5kk"
      },
      "execution_count": 9,
      "outputs": []
    },
    {
      "cell_type": "code",
      "source": [
        "from torch.utils.data import TensorDataset"
      ],
      "metadata": {
        "id": "oaxooTHiu1MQ"
      },
      "execution_count": 13,
      "outputs": []
    },
    {
      "cell_type": "code",
      "source": [
        "# Define dataset\n",
        "train_ds=TensorDataset(inputs,targets)\n",
        "train_ds[0:,]"
      ],
      "metadata": {
        "colab": {
          "base_uri": "https://localhost:8080/"
        },
        "id": "YyURBpQ9uVMF",
        "outputId": "6b4f86e0-2242-4dc7-80a6-f232c6b765b7"
      },
      "execution_count": 22,
      "outputs": [
        {
          "output_type": "execute_result",
          "data": {
            "text/plain": [
              "(tensor([[ 73.,  67.,  43.],\n",
              "         [ 91.,  88.,  64.],\n",
              "         [ 87., 134.,  58.],\n",
              "         [102.,  43.,  37.],\n",
              "         [ 69.,  96.,  70.],\n",
              "         [ 74.,  66.,  43.],\n",
              "         [ 91.,  87.,  65.],\n",
              "         [ 88., 134.,  59.],\n",
              "         [101.,  44.,  37.],\n",
              "         [ 68.,  96.,  71.],\n",
              "         [ 73.,  66.,  44.],\n",
              "         [ 92.,  87.,  64.],\n",
              "         [ 87., 135.,  57.],\n",
              "         [103.,  43.,  36.],\n",
              "         [ 68.,  97.,  70.]]),\n",
              " tensor([[ 56.,  70.],\n",
              "         [ 81., 101.],\n",
              "         [119., 133.],\n",
              "         [ 22.,  37.],\n",
              "         [103., 119.],\n",
              "         [ 57.,  69.],\n",
              "         [ 80., 102.],\n",
              "         [118., 132.],\n",
              "         [ 21.,  38.],\n",
              "         [104., 118.],\n",
              "         [ 57.,  69.],\n",
              "         [ 82., 100.],\n",
              "         [118., 134.],\n",
              "         [ 20.,  38.],\n",
              "         [102., 120.]]))"
            ]
          },
          "metadata": {},
          "execution_count": 22
        }
      ]
    },
    {
      "cell_type": "markdown",
      "source": [
        "We'll also create a DataLoader, which can split the data into batches of a predefined size while training. It also provides other utilities like shuffling and random sampling of the data."
      ],
      "metadata": {
        "id": "l5-PhzUKxwNl"
      }
    },
    {
      "cell_type": "markdown",
      "source": [],
      "metadata": {
        "id": "2Gzro-cjxwLt"
      }
    },
    {
      "cell_type": "code",
      "source": [
        "from torch.utils.data import DataLoader"
      ],
      "metadata": {
        "id": "6fwkgo4Auxr3"
      },
      "execution_count": 24,
      "outputs": []
    },
    {
      "cell_type": "code",
      "source": [
        "# Define data loader\n",
        "batch_size=5\n",
        "train_dl = DataLoader(train_ds, batch_size, shuffle=True)"
      ],
      "metadata": {
        "id": "OOx6F6n_x1-h"
      },
      "execution_count": 26,
      "outputs": []
    },
    {
      "cell_type": "code",
      "source": [
        "for xb,yb in train_dl:\n",
        "  print(xb)\n",
        "  print(yb)"
      ],
      "metadata": {
        "colab": {
          "base_uri": "https://localhost:8080/"
        },
        "id": "ftKsjjyDyE9Z",
        "outputId": "54db53f6-1b9a-422e-ef7a-0e0a31a5beff"
      },
      "execution_count": 27,
      "outputs": [
        {
          "output_type": "stream",
          "name": "stdout",
          "text": [
            "tensor([[ 87., 135.,  57.],\n",
            "        [ 68.,  96.,  71.],\n",
            "        [ 74.,  66.,  43.],\n",
            "        [ 87., 134.,  58.],\n",
            "        [ 91.,  87.,  65.]])\n",
            "tensor([[118., 134.],\n",
            "        [104., 118.],\n",
            "        [ 57.,  69.],\n",
            "        [119., 133.],\n",
            "        [ 80., 102.]])\n",
            "tensor([[ 88., 134.,  59.],\n",
            "        [ 91.,  88.,  64.],\n",
            "        [ 69.,  96.,  70.],\n",
            "        [102.,  43.,  37.],\n",
            "        [ 73.,  67.,  43.]])\n",
            "tensor([[118., 132.],\n",
            "        [ 81., 101.],\n",
            "        [103., 119.],\n",
            "        [ 22.,  37.],\n",
            "        [ 56.,  70.]])\n",
            "tensor([[103.,  43.,  36.],\n",
            "        [101.,  44.,  37.],\n",
            "        [ 92.,  87.,  64.],\n",
            "        [ 68.,  97.,  70.],\n",
            "        [ 73.,  66.,  44.]])\n",
            "tensor([[ 20.,  38.],\n",
            "        [ 21.,  38.],\n",
            "        [ 82., 100.],\n",
            "        [102., 120.],\n",
            "        [ 57.,  69.]])\n"
          ]
        }
      ]
    },
    {
      "cell_type": "markdown",
      "source": [
        "## nn.Linear"
      ],
      "metadata": {
        "id": "ti1QB6khz3mO"
      }
    },
    {
      "cell_type": "code",
      "source": [
        "# Define Model\n",
        "model=nn.Linear(3,2)\n",
        "print(model.weight)\n",
        "print(model.bias)"
      ],
      "metadata": {
        "colab": {
          "base_uri": "https://localhost:8080/"
        },
        "id": "ajQwbqW9zLR9",
        "outputId": "eaf9dbba-f889-40a4-fcba-29bdb6efa4f8"
      },
      "execution_count": 28,
      "outputs": [
        {
          "output_type": "stream",
          "name": "stdout",
          "text": [
            "Parameter containing:\n",
            "tensor([[-0.2305, -0.0855,  0.3380],\n",
            "        [ 0.1087,  0.4144,  0.3595]], requires_grad=True)\n",
            "Parameter containing:\n",
            "tensor([ 0.3050, -0.1375], requires_grad=True)\n"
          ]
        }
      ]
    },
    {
      "cell_type": "markdown",
      "source": [
        "PyTorch models also have a helpful .parameters method, which returns a list containing all the weights and bias matrices present in the model. For our linear regression model, we have one weight matrix and one bias matrix."
      ],
      "metadata": {
        "id": "yiNPMEDG0IZt"
      }
    },
    {
      "cell_type": "code",
      "source": [
        "list(model.parameters())"
      ],
      "metadata": {
        "colab": {
          "base_uri": "https://localhost:8080/"
        },
        "id": "p7q0gXHp0Amm",
        "outputId": "4111ebc3-5a5f-4947-cd32-2bb609cb72f1"
      },
      "execution_count": 29,
      "outputs": [
        {
          "output_type": "execute_result",
          "data": {
            "text/plain": [
              "[Parameter containing:\n",
              " tensor([[-0.2305, -0.0855,  0.3380],\n",
              "         [ 0.1087,  0.4144,  0.3595]], requires_grad=True),\n",
              " Parameter containing:\n",
              " tensor([ 0.3050, -0.1375], requires_grad=True)]"
            ]
          },
          "metadata": {},
          "execution_count": 29
        }
      ]
    },
    {
      "cell_type": "code",
      "source": [
        "# Generate Predictions\n",
        "preds=model(inputs)\n",
        "preds"
      ],
      "metadata": {
        "colab": {
          "base_uri": "https://localhost:8080/"
        },
        "id": "yFzGmGLL0MYa",
        "outputId": "9cd021d0-d098-4b0e-a404-23c423ddfaff"
      },
      "execution_count": 30,
      "outputs": [
        {
          "output_type": "execute_result",
          "data": {
            "text/plain": [
              "tensor([[-7.7160e+00,  5.1018e+01],\n",
              "        [-6.5621e+00,  6.9225e+01],\n",
              "        [-1.1602e+01,  8.5695e+01],\n",
              "        [-1.4377e+01,  4.2068e+01],\n",
              "        [-1.4661e-01,  7.2306e+01],\n",
              "        [-7.8610e+00,  5.0712e+01],\n",
              "        [-6.1385e+00,  6.9170e+01],\n",
              "        [-1.1494e+01,  8.6163e+01],\n",
              "        [-1.4232e+01,  4.2374e+01],\n",
              "        [ 4.2195e-01,  7.2556e+01],\n",
              "        [-7.2924e+00,  5.0963e+01],\n",
              "        [-6.7071e+00,  6.8920e+01],\n",
              "        [-1.2026e+01,  8.5750e+01],\n",
              "        [-1.4945e+01,  4.1818e+01],\n",
              "        [-1.6125e-03,  7.2611e+01]], grad_fn=<AddmmBackward0>)"
            ]
          },
          "metadata": {},
          "execution_count": 30
        }
      ]
    },
    {
      "cell_type": "markdown",
      "source": [
        "## Loss Function"
      ],
      "metadata": {
        "id": "Pbs8Cty40cSk"
      }
    },
    {
      "cell_type": "code",
      "source": [
        "## import nn.functional\n",
        "import torch.nn.functional as F"
      ],
      "metadata": {
        "id": "PhtoGtI70ZrH"
      },
      "execution_count": 32,
      "outputs": []
    },
    {
      "cell_type": "markdown",
      "source": [
        "The `nn.functional` package contains many useful loss functions and several other utilities."
      ],
      "metadata": {
        "id": "8Ii99i6U0uaV"
      }
    },
    {
      "cell_type": "code",
      "source": [
        "# Define loss function\n",
        "loss_fn=F.mse_loss"
      ],
      "metadata": {
        "id": "yEa0UOWg0k1Z"
      },
      "execution_count": 33,
      "outputs": []
    },
    {
      "cell_type": "code",
      "source": [
        "loss=loss_fn(model(inputs),targets)\n",
        "print(loss)"
      ],
      "metadata": {
        "colab": {
          "base_uri": "https://localhost:8080/"
        },
        "id": "2trhbRsW01d9",
        "outputId": "89412a7a-85a2-4db8-da74-7937fd2c55fb"
      },
      "execution_count": 35,
      "outputs": [
        {
          "output_type": "stream",
          "name": "stdout",
          "text": [
            "tensor(4631.2373, grad_fn=<MseLossBackward0>)\n"
          ]
        }
      ]
    },
    {
      "cell_type": "markdown",
      "source": [
        "## Optimizer"
      ],
      "metadata": {
        "id": "rjB1tf1h2hzB"
      }
    },
    {
      "cell_type": "code",
      "source": [
        "# Define optimiser\n",
        "opt=torch.optim.SGD(model.parameters(),lr=1e-5)"
      ],
      "metadata": {
        "id": "N5CtpE0r2evM"
      },
      "execution_count": 37,
      "outputs": []
    },
    {
      "cell_type": "markdown",
      "source": [
        "## Train Model"
      ],
      "metadata": {
        "id": "vKdeQeOp3EKq"
      }
    },
    {
      "cell_type": "code",
      "source": [
        "def fit(num_epochs,model,loss_fn,opt,train_dl):\n",
        "  # repeat for given number of epochs\n",
        "  for epoch in range(num_epochs):\n",
        "    # Train with batches of data\n",
        "    for xb,yb in train_dl:\n",
        "      # Generate predictions\n",
        "      pred=model(xb)\n",
        "      # calculate loss\n",
        "      loss=loss_fn(pred,yb)\n",
        "      # compute gradients\n",
        "      loss.backward()\n",
        "      # update parameters using gradients\n",
        "      opt.step()\n",
        "      #Reset gradients with zeros\n",
        "      opt.zero_grad()\n",
        "    # Print the progress\n",
        "    if (epoch+1) % 10 == 0:\n",
        "      print('Epoch [{}/{}], Loss: {:.4f}'.format(epoch+1, num_epochs, loss.item()))"
      ],
      "metadata": {
        "id": "uQTUqFwi3Dp8"
      },
      "execution_count": 38,
      "outputs": []
    },
    {
      "cell_type": "code",
      "source": [
        "fit(200,model,loss_fn,opt,train_dl)"
      ],
      "metadata": {
        "colab": {
          "base_uri": "https://localhost:8080/"
        },
        "id": "k4sC-RJN2gVK",
        "outputId": "102d1910-c085-4c74-fa36-4bcff12f13d4"
      },
      "execution_count": 40,
      "outputs": [
        {
          "output_type": "stream",
          "name": "stdout",
          "text": [
            "Epoch [10/200], Loss: 11.1143\n",
            "Epoch [20/200], Loss: 11.2359\n",
            "Epoch [30/200], Loss: 6.8847\n",
            "Epoch [40/200], Loss: 7.1307\n",
            "Epoch [50/200], Loss: 6.6479\n",
            "Epoch [60/200], Loss: 5.9534\n",
            "Epoch [70/200], Loss: 2.1430\n",
            "Epoch [80/200], Loss: 3.3117\n",
            "Epoch [90/200], Loss: 5.4270\n",
            "Epoch [100/200], Loss: 6.3207\n",
            "Epoch [110/200], Loss: 3.2807\n",
            "Epoch [120/200], Loss: 3.9587\n",
            "Epoch [130/200], Loss: 1.8497\n",
            "Epoch [140/200], Loss: 3.8043\n",
            "Epoch [150/200], Loss: 4.5567\n",
            "Epoch [160/200], Loss: 4.0939\n",
            "Epoch [170/200], Loss: 5.8418\n",
            "Epoch [180/200], Loss: 3.0931\n",
            "Epoch [190/200], Loss: 3.4242\n",
            "Epoch [200/200], Loss: 1.7054\n"
          ]
        }
      ]
    },
    {
      "cell_type": "code",
      "source": [
        "preds=model(inputs)\n",
        "preds"
      ],
      "metadata": {
        "colab": {
          "base_uri": "https://localhost:8080/"
        },
        "id": "m0F3tDWh37tv",
        "outputId": "9360f854-59fa-404c-c8cb-9691f5ddb0c1"
      },
      "execution_count": 41,
      "outputs": [
        {
          "output_type": "execute_result",
          "data": {
            "text/plain": [
              "tensor([[ 57.0663,  70.4914],\n",
              "        [ 81.9896,  99.3361],\n",
              "        [118.3406, 135.1959],\n",
              "        [ 20.9937,  38.4624],\n",
              "        [101.7267, 115.9817],\n",
              "        [ 55.8189,  69.3912],\n",
              "        [ 81.8318,  99.2141],\n",
              "        [118.6251, 135.6807],\n",
              "        [ 22.2411,  39.5626],\n",
              "        [102.8163, 116.9599],\n",
              "        [ 56.9084,  70.3694],\n",
              "        [ 80.7422,  98.2358],\n",
              "        [118.4985, 135.3179],\n",
              "        [ 19.9041,  37.4841],\n",
              "        [102.9741, 117.0819]], grad_fn=<AddmmBackward0>)"
            ]
          },
          "metadata": {},
          "execution_count": 41
        }
      ]
    },
    {
      "cell_type": "code",
      "source": [
        "targets"
      ],
      "metadata": {
        "colab": {
          "base_uri": "https://localhost:8080/"
        },
        "id": "X4C1eFQX4lKT",
        "outputId": "07f9c5e4-9e18-4004-8959-ca1c4490cee9"
      },
      "execution_count": 42,
      "outputs": [
        {
          "output_type": "execute_result",
          "data": {
            "text/plain": [
              "tensor([[ 56.,  70.],\n",
              "        [ 81., 101.],\n",
              "        [119., 133.],\n",
              "        [ 22.,  37.],\n",
              "        [103., 119.],\n",
              "        [ 57.,  69.],\n",
              "        [ 80., 102.],\n",
              "        [118., 132.],\n",
              "        [ 21.,  38.],\n",
              "        [104., 118.],\n",
              "        [ 57.,  69.],\n",
              "        [ 82., 100.],\n",
              "        [118., 134.],\n",
              "        [ 20.,  38.],\n",
              "        [102., 120.]])"
            ]
          },
          "metadata": {},
          "execution_count": 42
        }
      ]
    },
    {
      "cell_type": "code",
      "source": [],
      "metadata": {
        "id": "nr8NRLnI4oMA"
      },
      "execution_count": null,
      "outputs": []
    }
  ]
}