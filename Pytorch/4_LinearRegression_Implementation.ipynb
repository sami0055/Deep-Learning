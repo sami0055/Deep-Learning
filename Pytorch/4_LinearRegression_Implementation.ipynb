{
  "nbformat": 4,
  "nbformat_minor": 0,
  "metadata": {
    "colab": {
      "provenance": []
    },
    "kernelspec": {
      "name": "python3",
      "display_name": "Python 3"
    },
    "language_info": {
      "name": "python"
    }
  },
  "cells": [
    {
      "cell_type": "code",
      "execution_count": 2,
      "metadata": {
        "id": "UTCFyc_AJtre"
      },
      "outputs": [],
      "source": [
        "import torch\n",
        "import numpy as np"
      ]
    },
    {
      "cell_type": "markdown",
      "source": [
        "## Training Data"
      ],
      "metadata": {
        "id": "Qle_7ldbZ3fq"
      }
    },
    {
      "cell_type": "code",
      "source": [
        "# input (temp,rainfall,humidity)\n",
        "inputs=np.array([\n",
        "    [73,67,43],\n",
        "    [91,88,64],\n",
        "    [87,134,58],\n",
        "    [102,43,37],\n",
        "    [69,96,70]\n",
        "],dtype='float32')"
      ],
      "metadata": {
        "id": "XRpGSqyKJ1Y4"
      },
      "execution_count": 4,
      "outputs": []
    },
    {
      "cell_type": "code",
      "source": [
        "# Targets (apples,oranges)\n",
        "targets=np.array([\n",
        "    [56,70],\n",
        "    [81,101],\n",
        "    [119,133],\n",
        "    [22,37],\n",
        "    [103,119]\n",
        "],dtype='float32')"
      ],
      "metadata": {
        "id": "fLOd5XubaIRb"
      },
      "execution_count": 5,
      "outputs": []
    },
    {
      "cell_type": "code",
      "source": [
        "#Convert inputs and targets to tensor\n",
        "inputs=torch.from_numpy(inputs)\n",
        "targets=torch.from_numpy(targets)\n",
        "print(inputs)\n",
        "print(targets)"
      ],
      "metadata": {
        "colab": {
          "base_uri": "https://localhost:8080/"
        },
        "id": "X0gYLfjHaZZQ",
        "outputId": "0381e633-deca-4a8d-f434-2c205ed6c9f2"
      },
      "execution_count": 6,
      "outputs": [
        {
          "output_type": "stream",
          "name": "stdout",
          "text": [
            "tensor([[ 73.,  67.,  43.],\n",
            "        [ 91.,  88.,  64.],\n",
            "        [ 87., 134.,  58.],\n",
            "        [102.,  43.,  37.],\n",
            "        [ 69.,  96.,  70.]])\n",
            "tensor([[ 56.,  70.],\n",
            "        [ 81., 101.],\n",
            "        [119., 133.],\n",
            "        [ 22.,  37.],\n",
            "        [103., 119.]])\n"
          ]
        }
      ]
    },
    {
      "cell_type": "markdown",
      "source": [
        "## Linear Regression Model From Scratch\n",
        "- yield_apple  = w11 * temp + w12 * rainfall + w13 * humidity + b1\n",
        "- yield_orange = w21 * temp + w22 * rainfall + w23 * humidity + b2"
      ],
      "metadata": {
        "id": "Lo9m1DqnaqLg"
      }
    },
    {
      "cell_type": "code",
      "source": [
        "# Weight and biases\n",
        "w=torch.randn(2,3,requires_grad=True)\n",
        "b=torch.randn(2,requires_grad=True)\n",
        "print(w)\n",
        "print(b)\n"
      ],
      "metadata": {
        "colab": {
          "base_uri": "https://localhost:8080/"
        },
        "id": "IHSkohv-am_Q",
        "outputId": "9bdce50b-1af0-42c7-a368-c605aa754d7e"
      },
      "execution_count": 7,
      "outputs": [
        {
          "output_type": "stream",
          "name": "stdout",
          "text": [
            "tensor([[ 0.2272, -0.5664,  0.1675],\n",
            "        [-0.1789, -0.1178,  0.5309]], requires_grad=True)\n",
            "tensor([0.3073, 0.0758], requires_grad=True)\n"
          ]
        }
      ]
    },
    {
      "cell_type": "code",
      "source": [
        "def model(x):\n",
        "    return x @ w.t()+b"
      ],
      "metadata": {
        "id": "-2dKqP8AbXCl"
      },
      "execution_count": 9,
      "outputs": []
    },
    {
      "cell_type": "markdown",
      "source": [
        "## Loss function"
      ],
      "metadata": {
        "id": "6U5mHEtscCm3"
      }
    },
    {
      "cell_type": "code",
      "source": [
        "def mse(t1,t2):\n",
        "  diff=t1-t2\n",
        "  return torch.sum(diff*diff)/diff.numel()"
      ],
      "metadata": {
        "id": "rIYL1T5rcA8N"
      },
      "execution_count": 10,
      "outputs": []
    },
    {
      "cell_type": "markdown",
      "source": [
        "# Compute Gradients"
      ],
      "metadata": {
        "id": "DK9n0ecUb68E"
      }
    },
    {
      "cell_type": "code",
      "source": [
        "preds=model(inputs)\n",
        "print(preds)"
      ],
      "metadata": {
        "colab": {
          "base_uri": "https://localhost:8080/"
        },
        "id": "7FuDGy9nbjfF",
        "outputId": "c056db8c-d5fd-4e3b-98b3-eba63d7e95a7"
      },
      "execution_count": 11,
      "outputs": [
        {
          "output_type": "stream",
          "name": "stdout",
          "text": [
            "tensor([[-13.8522,   1.9505],\n",
            "        [-18.1393,   7.4044],\n",
            "        [-46.1089,  -0.4847],\n",
            "        [  5.3270,  -3.5947],\n",
            "        [-26.6650,  13.5824]], grad_fn=<AddBackward0>)\n"
          ]
        }
      ]
    },
    {
      "cell_type": "code",
      "source": [
        "loss=mse(preds,targets)\n",
        "print(loss)"
      ],
      "metadata": {
        "colab": {
          "base_uri": "https://localhost:8080/"
        },
        "id": "DQoPcHglcYi1",
        "outputId": "1fa69961-494e-466a-94a6-ec72a4b105ba"
      },
      "execution_count": 12,
      "outputs": [
        {
          "output_type": "stream",
          "name": "stdout",
          "text": [
            "tensor(10302.9736, grad_fn=<DivBackward0>)\n"
          ]
        }
      ]
    },
    {
      "cell_type": "code",
      "source": [
        "loss.backward()"
      ],
      "metadata": {
        "id": "gu5ZDFvFcdLP"
      },
      "execution_count": 13,
      "outputs": []
    },
    {
      "cell_type": "code",
      "source": [
        "print(w)\n",
        "print(w.grad)"
      ],
      "metadata": {
        "colab": {
          "base_uri": "https://localhost:8080/"
        },
        "id": "KJookPCCciQG",
        "outputId": "0e741f7b-9069-47b5-876f-5d405cd90b86"
      },
      "execution_count": 14,
      "outputs": [
        {
          "output_type": "stream",
          "name": "stdout",
          "text": [
            "tensor([[ 0.2272, -0.5664,  0.1675],\n",
            "        [-0.1789, -0.1178,  0.5309]], requires_grad=True)\n",
            "tensor([[-7826.5796, -9738.7480, -5723.6665],\n",
            "        [-7302.4912, -8509.6680, -5107.9189]])\n"
          ]
        }
      ]
    },
    {
      "cell_type": "code",
      "source": [
        "# adjust w and b\n",
        "with torch.no_grad():\n",
        "  w-=w.grad*1e-5\n",
        "  b-=b.grad*1e-5\n",
        "  w.grad.zero_()\n",
        "  b.grad.zero_()"
      ],
      "metadata": {
        "id": "F4--1A25clIN"
      },
      "execution_count": 15,
      "outputs": []
    },
    {
      "cell_type": "code",
      "source": [
        "preds=model(inputs)\n",
        "loss=mse(preds,targets)\n",
        "print(loss)"
      ],
      "metadata": {
        "colab": {
          "base_uri": "https://localhost:8080/"
        },
        "id": "fLP-QLj_cyt6",
        "outputId": "a4013cf6-a5ae-4fc7-8d79-02a64c2ae8f0"
      },
      "execution_count": 17,
      "outputs": [
        {
          "output_type": "stream",
          "name": "stdout",
          "text": [
            "tensor(7200.0952, grad_fn=<DivBackward0>)\n"
          ]
        }
      ]
    },
    {
      "cell_type": "markdown",
      "source": [
        "## Training for multiple epochs"
      ],
      "metadata": {
        "id": "122pzNuRdCb2"
      }
    },
    {
      "cell_type": "code",
      "source": [
        "# Training for 100 epochs\n",
        "for i in range(1000):\n",
        "  preds=model(inputs)\n",
        "  loss=mse(preds,targets)\n",
        "  loss.backward()\n",
        "  with torch.no_grad():\n",
        "    w-=w.grad*1e-5\n",
        "    b-=b.grad*1e-5\n",
        "    w.grad.zero_()\n",
        "    b.grad.zero_()"
      ],
      "metadata": {
        "id": "EJnNDa7Pc0i_"
      },
      "execution_count": 22,
      "outputs": []
    },
    {
      "cell_type": "code",
      "source": [
        "preds=model(inputs)\n",
        "loss=mse(preds,targets)\n",
        "print(loss)"
      ],
      "metadata": {
        "colab": {
          "base_uri": "https://localhost:8080/"
        },
        "id": "eFHMw_5GdSRM",
        "outputId": "c06292a9-4e35-403c-894e-a98a7562cecf"
      },
      "execution_count": 23,
      "outputs": [
        {
          "output_type": "stream",
          "name": "stdout",
          "text": [
            "tensor(0.5201, grad_fn=<DivBackward0>)\n"
          ]
        }
      ]
    },
    {
      "cell_type": "code",
      "source": [],
      "metadata": {
        "id": "J_H6O3oRdV2j"
      },
      "execution_count": null,
      "outputs": []
    }
  ]
}